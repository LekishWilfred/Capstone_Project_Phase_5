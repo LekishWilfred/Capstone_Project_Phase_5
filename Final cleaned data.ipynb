{
 "cells": [
  {
   "cell_type": "markdown",
   "metadata": {
    "id": "gbIijqUygKjQ"
   },
   "source": [
    "# **PHASE 5 CAPSTONE PROJECT**"
   ]
  },
  {
   "cell_type": "markdown",
   "metadata": {
    "id": "dqzh4l5egKjV"
   },
   "source": [
    "**Students**\n",
    "\n",
    "Magdalene Ondimu\n",
    "\n",
    "Najma Abdi\n",
    "\n",
    "Leon Maina\n",
    "\n",
    "Brian Kariithi\n",
    "\n",
    "Wilfred Lekishorumongi\n",
    "\n",
    "**Technical Mentors:** William Okwomba, Noah Kandie, Bonface Manyara\n",
    "\n",
    "**Mode of Study:** Part time"
   ]
  },
  {
   "cell_type": "code",
   "execution_count": 2,
   "metadata": {},
   "outputs": [
    {
     "data": {
      "text/html": [
       "<img src=\"https://blog.prif.org/wp-content/uploads/2020/12/Wolff-legacy-protest-movements-latin-america-Chile-BLOG.jpg\"/>"
      ],
      "text/plain": [
       "<IPython.core.display.Image object>"
      ]
     },
     "execution_count": 2,
     "metadata": {},
     "output_type": "execute_result"
    }
   ],
   "source": [
    "from IPython.display import Image\n",
    "\n",
    "# URL of the image\n",
    "url = \"https://blog.prif.org/wp-content/uploads/2020/12/Wolff-legacy-protest-movements-latin-america-Chile-BLOG.jpg\"\n",
    "\n",
    "# Display the image\n",
    "Image(url=url)\n"
   ]
  },
  {
   "cell_type": "markdown",
   "metadata": {},
   "source": [
    "## 1.1 INTRODUCTION\n",
    "\n",
    "Protests are significant socio-political events that shape the trajectory of nations and influence global dynamics. Understanding the dynamics of protests—such as their causes, demands, and state responses—is critical for policymakers, researchers, and international organizations. Analyzing modern protest data can provide invaluable insights into current socio-political climates, helping to forecast potential unrest, understand public sentiment, and guide policy responses."
   ]
  },
  {
   "cell_type": "markdown",
   "metadata": {},
   "source": [
    "## 1.2 PROBLEM STATEMENT\n",
    "\n",
    "Understanding the dynamics of protests, including their causes, demands, and state responses, is critical for policymakers, researchers, and international organizations. Despite the importance of protests in driving political change and social movements, there is a need for a comprehensive analysis that examines the underlying factors, geographical distribution, and temporal trends of protest events on a global scale. This project aims to fill this gap by analyzing global protest events from 1990 to March 2020."
   ]
  },
  {
   "cell_type": "markdown",
   "metadata": {},
   "source": [
    "## 1.3 BUSINESS UNDERSTANDING\n",
    "\n",
    "This project aims to analyze protest events globally, focusing on identifying underlying factors, geographical distribution, and temporal trends. By leveraging NLP techniques, it will uncover common themes in protester demands and evaluate the effectiveness and impact of various state responses. The insights gained will inform actionable policy recommendations, enhance the understanding of social movements, and improve strategies for managing social unrest."
   ]
  },
  {
   "cell_type": "markdown",
   "metadata": {},
   "source": [
    "## 1.4 MAIN OBJECTIVE\n",
    "\n",
    "**To analyze protest events**\n",
    "\n",
    "o Identify the underlying factors that lead to mass protests globally.\n",
    "\n",
    "o Examine the geographical distribution and temporal trends of protest events from 1990 to March 2020.\n",
    "\n",
    "o Understand the patterns and characteristics of protests, including their scale and intensity.\n"
   ]
  },
  {
   "cell_type": "markdown",
   "metadata": {},
   "source": [
    "## 1.5 SPECIFIC OBJECTIVES\n",
    "\n",
    "The specific objectives are:\n",
    "\n",
    "1. **Identify protest factors:**\n",
    "   \n",
    "       - Determine the key underlying factors that lead to mass protests globally\n",
    "   \n",
    "\n",
    "3. **Analyze Geographic and Temporal Trends:**\n",
    "\n",
    "       - Examine the geographical distribution and temporal trends of protest events from 1990 to March 2020.\n",
    "\n",
    "4. **Evaluate state responses:**\n",
    "\n",
    "       - Assess the effectiveness and impact of government and state responses to protests.\n",
    "\n",
    "5. **Derive actionable insights**\n",
    "\n",
    "       - Offer actionable policy recommendations to improve state-citizen relations and manage social unrest effectively."
   ]
  },
  {
   "cell_type": "markdown",
   "metadata": {},
   "source": [
    "## 1.6 METHODOLOGY\n",
    "\n",
    "The methodology outlines the steps to achieve the specific objectives and includes the following phases:\n",
    "\n",
    "1. Data Cleaning.\n",
    "2. Exploratory Data Analysis.\n",
    "3. Data Preprocessing.\n",
    "4. Modelling.\n",
    "5. Evaluation.\n",
    "6. Recommendations and Conclusion."
   ]
  },
  {
   "cell_type": "markdown",
   "metadata": {},
   "source": [
    "## 1.7 METRICS OF SUCCESS\n",
    "\n",
    "**Trend Identification:**\n",
    "The ability to accurately identify and visualize trends in protest frequency over time.\n",
    "\n",
    "**Response Evaluation:**\n",
    "Assessing the effectiveness and variation of state responses.\n",
    "\n",
    "**Sentiment Accuracy:**\n",
    "Achieving high accuracy in sentiment analysis of protest notes.\n",
    "\n",
    "**Topic Relevance:**\n",
    "Effectively identifying and summarizing key topics from the protest notes\n",
    "\n",
    "**Model Performance:** \n",
    "Achieving high performance in classification tasks, measured by metrics such as accuracy, precision, recall, F1-score, and ROC-AUC.\n",
    "\n",
    "By conducting these analyses, we can gain a comprehensive understanding of global protest dynamics, which can inform policy decisions and future research directions."
   ]
  },
  {
   "cell_type": "markdown",
   "metadata": {
    "id": "kQkCzvIUgKjY"
   },
   "source": [
    "## 1.8. DATA UNDERSTANDING\n",
    "\n",
    "**id**: Unique identifier for each protest event.\n",
    "\n",
    "**country**: The country where the protest occurred.\n",
    "\n",
    "**ccode**: Country code.\n",
    "\n",
    "**year**: The year the protest occurred.\n",
    "\n",
    "**region**: The region where the country is located.\n",
    "\n",
    "**protes**t: Indicator if there was a protest (1) or not (0).\n",
    "\n",
    "**protestnumber**: Sequential number of protests in the dataset.\n",
    "\n",
    "**startday**: The day the protest started.\n",
    "\n",
    "**startmonth**: The month the protest started.\n",
    "\n",
    "**startyear**: The year the protest started.\n",
    "\n",
    "**protesterdemand**1: Primary protester demands.\n",
    "\n",
    "**protesterdemand2**: Secondary protester demands.\n",
    "\n",
    "**protesterdemand3**: Tertiary protester demands.\n",
    "\n",
    "**protesterdemand4**: Additional protester demands.\n",
    "\n",
    "**stateresponse1**: Primary state response.\n",
    "\n",
    "**stateresponse2**: Secondary state response.\n",
    "\n",
    "**stateresponse3**: Tertiary state response.\n",
    "\n",
    "**stateresponse4**: Quaternary state response.\n",
    "\n",
    "**stateresponse5**: Quinary state response.\n",
    "\n",
    "**stateresponse6**: Senary state response.\n",
    "\n",
    "**stateresponse7**: Septenary state response.\n",
    "\n",
    "**sources**: Sources of information about the protest.\n",
    "\n",
    "**notes**: Additional notes about the protest.\n"
   ]
  },
  {
   "cell_type": "markdown",
   "metadata": {
    "id": "R5h4OKXugKja"
   },
   "source": [
    "## 2.0 DATA CLEANING\n",
    "\n",
    "**importing the libraries**"
   ]
  },
  {
   "cell_type": "code",
   "execution_count": 3,
   "metadata": {
    "ExecuteTime": {
     "end_time": "2024-07-17T09:34:21.365678Z",
     "start_time": "2024-07-17T09:34:15.914131Z"
    },
    "code_folding": [],
    "colab": {
     "base_uri": "https://localhost:8080/"
    },
    "id": "5NFjtuSvgKjb",
    "outputId": "e9911d11-c96e-4484-d02c-12cc19af868f"
   },
   "outputs": [
    {
     "name": "stderr",
     "output_type": "stream",
     "text": [
      "[nltk_data] Downloading package punkt to\n",
      "[nltk_data]     C:\\Users\\Magda\\AppData\\Roaming\\nltk_data...\n",
      "[nltk_data]   Package punkt is already up-to-date!\n",
      "[nltk_data] Downloading package stopwords to\n",
      "[nltk_data]     C:\\Users\\Magda\\AppData\\Roaming\\nltk_data...\n",
      "[nltk_data]   Package stopwords is already up-to-date!\n",
      "[nltk_data] Downloading package wordnet to\n",
      "[nltk_data]     C:\\Users\\Magda\\AppData\\Roaming\\nltk_data...\n",
      "[nltk_data]   Package wordnet is already up-to-date!\n"
     ]
    }
   ],
   "source": [
    "# Importing relevant libraries\n",
    "#Basic libraries\n",
    "import pandas as pd\n",
    "import numpy as np\n",
    "import matplotlib as mpl\n",
    "import matplotlib.pyplot as plt\n",
    "from matplotlib import rcParams\n",
    "%matplotlib inline\n",
    "import seaborn as sns\n",
    "import re\n",
    "\n",
    "\n",
    "#NLTK libraries\n",
    "import nltk\n",
    "from nltk.corpus import stopwords\n",
    "from nltk.stem import WordNetLemmatizer\n",
    "from nltk.tokenize import word_tokenize\n",
    "\n",
    "nltk.download('punkt')\n",
    "nltk.download('stopwords')\n",
    "nltk.download('wordnet')\n",
    "import string\n",
    "import wordcloud\n",
    "from wordcloud import WordCloud, STOPWORDS\n",
    "from nltk.stem.porter import PorterStemmer\n",
    "\n",
    "# Machine Learning libraries\n",
    "import sklearn\n",
    "from sklearn import svm, datasets\n",
    "from sklearn import preprocessing\n",
    "from sklearn.feature_extraction.text import TfidfVectorizer\n",
    "from sklearn.svm import SVC\n",
    "from sklearn.preprocessing import LabelEncoder, StandardScaler, MinMaxScaler, label_binarize\n",
    "from sklearn.ensemble import ExtraTreesClassifier, RandomForestClassifier\n",
    "from sklearn.pipeline import Pipeline, make_pipeline\n",
    "from sklearn.model_selection import GridSearchCV, train_test_split\n",
    "from sklearn.linear_model import LogisticRegression\n",
    "from sklearn.tree import DecisionTreeClassifier\n",
    "from sklearn.naive_bayes import BernoulliNB\n",
    "from sklearn.neighbors import KNeighborsClassifier\n",
    "from sklearn.multiclass import OneVsRestClassifier\n",
    "\n",
    "import tensorflow\n",
    "import keras\n",
    "from tensorflow.keras.models import Sequential\n",
    "from tensorflow.keras.layers import Embedding, SimpleRNN, Dense\n",
    "from tensorflow.keras.preprocessing.text import Tokenizer\n",
    "from tensorflow.keras.preprocessing.sequence import pad_sequences\n",
    "\n",
    "\n",
    "#Metrics libraries\n",
    "from sklearn import metrics\n",
    "from sklearn.model_selection import cross_val_score\n",
    "from sklearn.metrics import classification_report, roc_auc_score, roc_curve, auc\n",
    "\n",
    "\n",
    "#Visualization libraries\n",
    "from plotly import tools\n",
    "import plotly.graph_objs as go\n",
    "from plotly.offline import iplot\n",
    "\n",
    "#Ignore warnings\n",
    "import warnings\n",
    "warnings.filterwarnings('ignore')"
   ]
  },
  {
   "cell_type": "code",
   "execution_count": 5,
   "metadata": {
    "ExecuteTime": {
     "end_time": "2024-07-17T09:34:21.595203Z",
     "start_time": "2024-07-17T09:34:21.367939Z"
    },
    "colab": {
     "base_uri": "https://localhost:8080/",
     "height": 689
    },
    "id": "t7UJnDYIgKje",
    "outputId": "4b27bf61-e2c4-4f56-a07c-ed6994db7cf5",
    "scrolled": true
   },
   "outputs": [
    {
     "data": {
      "text/html": [
       "<div>\n",
       "<style scoped>\n",
       "    .dataframe tbody tr th:only-of-type {\n",
       "        vertical-align: middle;\n",
       "    }\n",
       "\n",
       "    .dataframe tbody tr th {\n",
       "        vertical-align: top;\n",
       "    }\n",
       "\n",
       "    .dataframe thead th {\n",
       "        text-align: right;\n",
       "    }\n",
       "</style>\n",
       "<table border=\"1\" class=\"dataframe\">\n",
       "  <thead>\n",
       "    <tr style=\"text-align: right;\">\n",
       "      <th></th>\n",
       "      <th>id</th>\n",
       "      <th>country</th>\n",
       "      <th>ccode</th>\n",
       "      <th>year</th>\n",
       "      <th>region</th>\n",
       "      <th>protest</th>\n",
       "      <th>protestnumber</th>\n",
       "      <th>startday</th>\n",
       "      <th>startmonth</th>\n",
       "      <th>startyear</th>\n",
       "      <th>...</th>\n",
       "      <th>protesterdemand4</th>\n",
       "      <th>stateresponse1</th>\n",
       "      <th>stateresponse2</th>\n",
       "      <th>stateresponse3</th>\n",
       "      <th>stateresponse4</th>\n",
       "      <th>stateresponse5</th>\n",
       "      <th>stateresponse6</th>\n",
       "      <th>stateresponse7</th>\n",
       "      <th>sources</th>\n",
       "      <th>notes</th>\n",
       "    </tr>\n",
       "  </thead>\n",
       "  <tbody>\n",
       "    <tr>\n",
       "      <th>0</th>\n",
       "      <td>201990001</td>\n",
       "      <td>Canada</td>\n",
       "      <td>20</td>\n",
       "      <td>1990</td>\n",
       "      <td>North America</td>\n",
       "      <td>1</td>\n",
       "      <td>1</td>\n",
       "      <td>15.0</td>\n",
       "      <td>1.0</td>\n",
       "      <td>1990.0</td>\n",
       "      <td>...</td>\n",
       "      <td>NaN</td>\n",
       "      <td>ignore</td>\n",
       "      <td>NaN</td>\n",
       "      <td>NaN</td>\n",
       "      <td>NaN</td>\n",
       "      <td>NaN</td>\n",
       "      <td>NaN</td>\n",
       "      <td>NaN</td>\n",
       "      <td>1. great canadian train journeys into history;...</td>\n",
       "      <td>canada s railway passenger system was finally ...</td>\n",
       "    </tr>\n",
       "    <tr>\n",
       "      <th>1</th>\n",
       "      <td>201990002</td>\n",
       "      <td>Canada</td>\n",
       "      <td>20</td>\n",
       "      <td>1990</td>\n",
       "      <td>North America</td>\n",
       "      <td>1</td>\n",
       "      <td>2</td>\n",
       "      <td>25.0</td>\n",
       "      <td>6.0</td>\n",
       "      <td>1990.0</td>\n",
       "      <td>...</td>\n",
       "      <td>NaN</td>\n",
       "      <td>ignore</td>\n",
       "      <td>NaN</td>\n",
       "      <td>NaN</td>\n",
       "      <td>NaN</td>\n",
       "      <td>NaN</td>\n",
       "      <td>NaN</td>\n",
       "      <td>NaN</td>\n",
       "      <td>1. autonomy s cry revived in quebec the new yo...</td>\n",
       "      <td>protestors were only identified as young peopl...</td>\n",
       "    </tr>\n",
       "    <tr>\n",
       "      <th>2</th>\n",
       "      <td>201990003</td>\n",
       "      <td>Canada</td>\n",
       "      <td>20</td>\n",
       "      <td>1990</td>\n",
       "      <td>North America</td>\n",
       "      <td>1</td>\n",
       "      <td>3</td>\n",
       "      <td>1.0</td>\n",
       "      <td>7.0</td>\n",
       "      <td>1990.0</td>\n",
       "      <td>...</td>\n",
       "      <td>NaN</td>\n",
       "      <td>ignore</td>\n",
       "      <td>NaN</td>\n",
       "      <td>NaN</td>\n",
       "      <td>NaN</td>\n",
       "      <td>NaN</td>\n",
       "      <td>NaN</td>\n",
       "      <td>NaN</td>\n",
       "      <td>1. quebec protest after queen calls for unity ...</td>\n",
       "      <td>the queen, after calling on canadians to remai...</td>\n",
       "    </tr>\n",
       "    <tr>\n",
       "      <th>3</th>\n",
       "      <td>201990004</td>\n",
       "      <td>Canada</td>\n",
       "      <td>20</td>\n",
       "      <td>1990</td>\n",
       "      <td>North America</td>\n",
       "      <td>1</td>\n",
       "      <td>4</td>\n",
       "      <td>12.0</td>\n",
       "      <td>7.0</td>\n",
       "      <td>1990.0</td>\n",
       "      <td>...</td>\n",
       "      <td>NaN</td>\n",
       "      <td>accomodation</td>\n",
       "      <td>NaN</td>\n",
       "      <td>NaN</td>\n",
       "      <td>NaN</td>\n",
       "      <td>NaN</td>\n",
       "      <td>NaN</td>\n",
       "      <td>NaN</td>\n",
       "      <td>1. indians gather as siege intensifies; armed ...</td>\n",
       "      <td>canada s federal government has agreed to acqu...</td>\n",
       "    </tr>\n",
       "    <tr>\n",
       "      <th>4</th>\n",
       "      <td>201990005</td>\n",
       "      <td>Canada</td>\n",
       "      <td>20</td>\n",
       "      <td>1990</td>\n",
       "      <td>North America</td>\n",
       "      <td>1</td>\n",
       "      <td>5</td>\n",
       "      <td>14.0</td>\n",
       "      <td>8.0</td>\n",
       "      <td>1990.0</td>\n",
       "      <td>...</td>\n",
       "      <td>NaN</td>\n",
       "      <td>crowd dispersal</td>\n",
       "      <td>arrests</td>\n",
       "      <td>accomodation</td>\n",
       "      <td>NaN</td>\n",
       "      <td>NaN</td>\n",
       "      <td>NaN</td>\n",
       "      <td>NaN</td>\n",
       "      <td>1. dozens hurt in mohawk blockade protest the ...</td>\n",
       "      <td>protests were directed against the state due t...</td>\n",
       "    </tr>\n",
       "  </tbody>\n",
       "</table>\n",
       "<p>5 rows × 31 columns</p>\n",
       "</div>"
      ],
      "text/plain": [
       "          id country  ccode  year         region  protest  protestnumber  \\\n",
       "0  201990001  Canada     20  1990  North America        1              1   \n",
       "1  201990002  Canada     20  1990  North America        1              2   \n",
       "2  201990003  Canada     20  1990  North America        1              3   \n",
       "3  201990004  Canada     20  1990  North America        1              4   \n",
       "4  201990005  Canada     20  1990  North America        1              5   \n",
       "\n",
       "   startday  startmonth  startyear  ...  protesterdemand4   stateresponse1  \\\n",
       "0      15.0         1.0     1990.0  ...               NaN           ignore   \n",
       "1      25.0         6.0     1990.0  ...               NaN           ignore   \n",
       "2       1.0         7.0     1990.0  ...               NaN           ignore   \n",
       "3      12.0         7.0     1990.0  ...               NaN     accomodation   \n",
       "4      14.0         8.0     1990.0  ...               NaN  crowd dispersal   \n",
       "\n",
       "   stateresponse2  stateresponse3 stateresponse4 stateresponse5  \\\n",
       "0             NaN             NaN            NaN            NaN   \n",
       "1             NaN             NaN            NaN            NaN   \n",
       "2             NaN             NaN            NaN            NaN   \n",
       "3             NaN             NaN            NaN            NaN   \n",
       "4         arrests    accomodation            NaN            NaN   \n",
       "\n",
       "  stateresponse6 stateresponse7  \\\n",
       "0            NaN            NaN   \n",
       "1            NaN            NaN   \n",
       "2            NaN            NaN   \n",
       "3            NaN            NaN   \n",
       "4            NaN            NaN   \n",
       "\n",
       "                                             sources  \\\n",
       "0  1. great canadian train journeys into history;...   \n",
       "1  1. autonomy s cry revived in quebec the new yo...   \n",
       "2  1. quebec protest after queen calls for unity ...   \n",
       "3  1. indians gather as siege intensifies; armed ...   \n",
       "4  1. dozens hurt in mohawk blockade protest the ...   \n",
       "\n",
       "                                               notes  \n",
       "0  canada s railway passenger system was finally ...  \n",
       "1  protestors were only identified as young peopl...  \n",
       "2  the queen, after calling on canadians to remai...  \n",
       "3  canada s federal government has agreed to acqu...  \n",
       "4  protests were directed against the state due t...  \n",
       "\n",
       "[5 rows x 31 columns]"
      ]
     },
     "execution_count": 5,
     "metadata": {},
     "output_type": "execute_result"
    }
   ],
   "source": [
    "# Loading the Dataset\n",
    "df = pd.read_csv('mmALL_073120_csv.csv')\n",
    "df.head()"
   ]
  },
  {
   "cell_type": "markdown",
   "metadata": {},
   "source": [
    "Loading the data and previewing the first 5 rows to be understand the data that we will be using for our analysis."
   ]
  },
  {
   "cell_type": "code",
   "execution_count": 6,
   "metadata": {
    "ExecuteTime": {
     "end_time": "2024-07-17T09:34:21.607825Z",
     "start_time": "2024-07-17T09:34:21.602131Z"
    },
    "colab": {
     "base_uri": "https://localhost:8080/"
    },
    "id": "7_pDqH7LgKje",
    "outputId": "aaad46eb-5e68-4944-e04a-5fe7f8ce70b5"
   },
   "outputs": [
    {
     "data": {
      "text/plain": [
       "(17145, 31)"
      ]
     },
     "execution_count": 6,
     "metadata": {},
     "output_type": "execute_result"
    }
   ],
   "source": [
    "df.shape"
   ]
  },
  {
   "cell_type": "markdown",
   "metadata": {
    "id": "c-D0ivSn2BDl"
   },
   "source": [
    "Our original dataset has 17145 rows and 31 features that has to be cleaned further."
   ]
  },
  {
   "cell_type": "code",
   "execution_count": 7,
   "metadata": {
    "ExecuteTime": {
     "end_time": "2024-07-17T09:34:21.626281Z",
     "start_time": "2024-07-17T09:34:21.610940Z"
    },
    "colab": {
     "base_uri": "https://localhost:8080/"
    },
    "id": "T3Q0YT-XgKjf",
    "outputId": "802741b0-0c02-4542-c7c4-ffec2d906219",
    "scrolled": true
   },
   "outputs": [
    {
     "data": {
      "text/plain": [
       "Index(['id', 'country', 'ccode', 'year', 'region', 'protest', 'protestnumber',\n",
       "       'startday', 'startmonth', 'startyear', 'endday', 'endmonth', 'endyear',\n",
       "       'protesterviolence', 'location', 'participants_category',\n",
       "       'participants', 'protesteridentity', 'protesterdemand1',\n",
       "       'protesterdemand2', 'protesterdemand3', 'protesterdemand4',\n",
       "       'stateresponse1', 'stateresponse2', 'stateresponse3', 'stateresponse4',\n",
       "       'stateresponse5', 'stateresponse6', 'stateresponse7', 'sources',\n",
       "       'notes'],\n",
       "      dtype='object')"
      ]
     },
     "execution_count": 7,
     "metadata": {},
     "output_type": "execute_result"
    }
   ],
   "source": [
    "df.columns"
   ]
  },
  {
   "cell_type": "markdown",
   "metadata": {},
   "source": [
    "The data understanding provides details about what each column contains."
   ]
  },
  {
   "cell_type": "code",
   "execution_count": 8,
   "metadata": {
    "ExecuteTime": {
     "end_time": "2024-07-17T09:34:21.657261Z",
     "start_time": "2024-07-17T09:34:21.631311Z"
    },
    "colab": {
     "base_uri": "https://localhost:8080/"
    },
    "id": "uwn7DsrHgKjf",
    "outputId": "d1f1e132-9c66-49fb-a9f8-58b6856d54be"
   },
   "outputs": [
    {
     "name": "stdout",
     "output_type": "stream",
     "text": [
      "<class 'pandas.core.frame.DataFrame'>\n",
      "RangeIndex: 17145 entries, 0 to 17144\n",
      "Data columns (total 31 columns):\n",
      " #   Column                 Non-Null Count  Dtype  \n",
      "---  ------                 --------------  -----  \n",
      " 0   id                     17145 non-null  int64  \n",
      " 1   country                17145 non-null  object \n",
      " 2   ccode                  17145 non-null  int64  \n",
      " 3   year                   17145 non-null  int64  \n",
      " 4   region                 17145 non-null  object \n",
      " 5   protest                17145 non-null  int64  \n",
      " 6   protestnumber          17145 non-null  int64  \n",
      " 7   startday               15239 non-null  float64\n",
      " 8   startmonth             15239 non-null  float64\n",
      " 9   startyear              15239 non-null  float64\n",
      " 10  endday                 15239 non-null  float64\n",
      " 11  endmonth               15239 non-null  float64\n",
      " 12  endyear                15239 non-null  float64\n",
      " 13  protesterviolence      15758 non-null  float64\n",
      " 14  location               15218 non-null  object \n",
      " 15  participants_category  9887 non-null   object \n",
      " 16  participants           15746 non-null  object \n",
      " 17  protesteridentity      14684 non-null  object \n",
      " 18  protesterdemand1       15238 non-null  object \n",
      " 19  protesterdemand2       2977 non-null   object \n",
      " 20  protesterdemand3       383 non-null    object \n",
      " 21  protesterdemand4       831 non-null    object \n",
      " 22  stateresponse1         15208 non-null  object \n",
      " 23  stateresponse2         2888 non-null   object \n",
      " 24  stateresponse3         930 non-null    object \n",
      " 25  stateresponse4         244 non-null    object \n",
      " 26  stateresponse5         849 non-null    object \n",
      " 27  stateresponse6         16 non-null     object \n",
      " 28  stateresponse7         920 non-null    object \n",
      " 29  sources                15235 non-null  object \n",
      " 30  notes                  15193 non-null  object \n",
      "dtypes: float64(7), int64(5), object(19)\n",
      "memory usage: 4.1+ MB\n"
     ]
    }
   ],
   "source": [
    "df.info()"
   ]
  },
  {
   "cell_type": "markdown",
   "metadata": {
    "id": "dq3EquWB2Vs-"
   },
   "source": [
    "From our dataframe information above, only 7 columns have no missing or null values. Consequently we are going to aggregate and merge the rest of the columns with similar textual data/ details and drop unnecessary ones.\n",
    "\n",
    "Our dataset comprises of both categorical and numerical data with many columns having large number of missing values. The numerical columns are mainly binary and date data."
   ]
  },
  {
   "cell_type": "code",
   "execution_count": 9,
   "metadata": {
    "ExecuteTime": {
     "end_time": "2024-07-17T09:34:21.707744Z",
     "start_time": "2024-07-17T09:34:21.670220Z"
    },
    "colab": {
     "base_uri": "https://localhost:8080/",
     "height": 320
    },
    "id": "UDnYDF16gKjg",
    "outputId": "d20f16ae-f011-4d1a-abb6-066bf090957e"
   },
   "outputs": [
    {
     "data": {
      "text/html": [
       "<div>\n",
       "<style scoped>\n",
       "    .dataframe tbody tr th:only-of-type {\n",
       "        vertical-align: middle;\n",
       "    }\n",
       "\n",
       "    .dataframe tbody tr th {\n",
       "        vertical-align: top;\n",
       "    }\n",
       "\n",
       "    .dataframe thead th {\n",
       "        text-align: right;\n",
       "    }\n",
       "</style>\n",
       "<table border=\"1\" class=\"dataframe\">\n",
       "  <thead>\n",
       "    <tr style=\"text-align: right;\">\n",
       "      <th></th>\n",
       "      <th>id</th>\n",
       "      <th>ccode</th>\n",
       "      <th>year</th>\n",
       "      <th>protest</th>\n",
       "      <th>protestnumber</th>\n",
       "      <th>startday</th>\n",
       "      <th>startmonth</th>\n",
       "      <th>startyear</th>\n",
       "      <th>endday</th>\n",
       "      <th>endmonth</th>\n",
       "      <th>endyear</th>\n",
       "      <th>protesterviolence</th>\n",
       "    </tr>\n",
       "  </thead>\n",
       "  <tbody>\n",
       "    <tr>\n",
       "      <th>count</th>\n",
       "      <td>1.714500e+04</td>\n",
       "      <td>17145.000000</td>\n",
       "      <td>17145.000000</td>\n",
       "      <td>17145.000000</td>\n",
       "      <td>17145.000000</td>\n",
       "      <td>15239.000000</td>\n",
       "      <td>15239.000000</td>\n",
       "      <td>15239.000000</td>\n",
       "      <td>15239.000000</td>\n",
       "      <td>15239.000000</td>\n",
       "      <td>15239.000000</td>\n",
       "      <td>15758.000000</td>\n",
       "    </tr>\n",
       "    <tr>\n",
       "      <th>mean</th>\n",
       "      <td>4.380888e+09</td>\n",
       "      <td>437.888189</td>\n",
       "      <td>2006.171654</td>\n",
       "      <td>0.888831</td>\n",
       "      <td>7.406299</td>\n",
       "      <td>15.455935</td>\n",
       "      <td>6.227836</td>\n",
       "      <td>2006.326465</td>\n",
       "      <td>15.580616</td>\n",
       "      <td>6.243520</td>\n",
       "      <td>2006.329221</td>\n",
       "      <td>0.256060</td>\n",
       "    </tr>\n",
       "    <tr>\n",
       "      <th>std</th>\n",
       "      <td>2.320550e+09</td>\n",
       "      <td>232.054953</td>\n",
       "      <td>8.987378</td>\n",
       "      <td>0.314351</td>\n",
       "      <td>11.854041</td>\n",
       "      <td>8.817037</td>\n",
       "      <td>3.461912</td>\n",
       "      <td>8.958007</td>\n",
       "      <td>8.803944</td>\n",
       "      <td>3.461745</td>\n",
       "      <td>8.959254</td>\n",
       "      <td>0.436469</td>\n",
       "    </tr>\n",
       "    <tr>\n",
       "      <th>min</th>\n",
       "      <td>2.019900e+08</td>\n",
       "      <td>20.000000</td>\n",
       "      <td>1990.000000</td>\n",
       "      <td>0.000000</td>\n",
       "      <td>0.000000</td>\n",
       "      <td>1.000000</td>\n",
       "      <td>1.000000</td>\n",
       "      <td>1990.000000</td>\n",
       "      <td>1.000000</td>\n",
       "      <td>1.000000</td>\n",
       "      <td>1990.000000</td>\n",
       "      <td>0.000000</td>\n",
       "    </tr>\n",
       "    <tr>\n",
       "      <th>25%</th>\n",
       "      <td>2.202010e+09</td>\n",
       "      <td>220.000000</td>\n",
       "      <td>1998.000000</td>\n",
       "      <td>1.000000</td>\n",
       "      <td>1.000000</td>\n",
       "      <td>8.000000</td>\n",
       "      <td>3.000000</td>\n",
       "      <td>1999.000000</td>\n",
       "      <td>8.000000</td>\n",
       "      <td>3.000000</td>\n",
       "      <td>1999.000000</td>\n",
       "      <td>0.000000</td>\n",
       "    </tr>\n",
       "    <tr>\n",
       "      <th>50%</th>\n",
       "      <td>4.342008e+09</td>\n",
       "      <td>434.000000</td>\n",
       "      <td>2007.000000</td>\n",
       "      <td>1.000000</td>\n",
       "      <td>3.000000</td>\n",
       "      <td>15.000000</td>\n",
       "      <td>6.000000</td>\n",
       "      <td>2007.000000</td>\n",
       "      <td>16.000000</td>\n",
       "      <td>6.000000</td>\n",
       "      <td>2007.000000</td>\n",
       "      <td>0.000000</td>\n",
       "    </tr>\n",
       "    <tr>\n",
       "      <th>75%</th>\n",
       "      <td>6.512005e+09</td>\n",
       "      <td>651.000000</td>\n",
       "      <td>2014.000000</td>\n",
       "      <td>1.000000</td>\n",
       "      <td>8.000000</td>\n",
       "      <td>23.000000</td>\n",
       "      <td>9.000000</td>\n",
       "      <td>2014.000000</td>\n",
       "      <td>23.000000</td>\n",
       "      <td>9.000000</td>\n",
       "      <td>2014.000000</td>\n",
       "      <td>1.000000</td>\n",
       "    </tr>\n",
       "    <tr>\n",
       "      <th>max</th>\n",
       "      <td>9.102020e+09</td>\n",
       "      <td>910.000000</td>\n",
       "      <td>2020.000000</td>\n",
       "      <td>1.000000</td>\n",
       "      <td>143.000000</td>\n",
       "      <td>31.000000</td>\n",
       "      <td>12.000000</td>\n",
       "      <td>2020.000000</td>\n",
       "      <td>31.000000</td>\n",
       "      <td>12.000000</td>\n",
       "      <td>2020.000000</td>\n",
       "      <td>1.000000</td>\n",
       "    </tr>\n",
       "  </tbody>\n",
       "</table>\n",
       "</div>"
      ],
      "text/plain": [
       "                 id         ccode          year       protest  protestnumber  \\\n",
       "count  1.714500e+04  17145.000000  17145.000000  17145.000000   17145.000000   \n",
       "mean   4.380888e+09    437.888189   2006.171654      0.888831       7.406299   \n",
       "std    2.320550e+09    232.054953      8.987378      0.314351      11.854041   \n",
       "min    2.019900e+08     20.000000   1990.000000      0.000000       0.000000   \n",
       "25%    2.202010e+09    220.000000   1998.000000      1.000000       1.000000   \n",
       "50%    4.342008e+09    434.000000   2007.000000      1.000000       3.000000   \n",
       "75%    6.512005e+09    651.000000   2014.000000      1.000000       8.000000   \n",
       "max    9.102020e+09    910.000000   2020.000000      1.000000     143.000000   \n",
       "\n",
       "           startday    startmonth     startyear        endday      endmonth  \\\n",
       "count  15239.000000  15239.000000  15239.000000  15239.000000  15239.000000   \n",
       "mean      15.455935      6.227836   2006.326465     15.580616      6.243520   \n",
       "std        8.817037      3.461912      8.958007      8.803944      3.461745   \n",
       "min        1.000000      1.000000   1990.000000      1.000000      1.000000   \n",
       "25%        8.000000      3.000000   1999.000000      8.000000      3.000000   \n",
       "50%       15.000000      6.000000   2007.000000     16.000000      6.000000   \n",
       "75%       23.000000      9.000000   2014.000000     23.000000      9.000000   \n",
       "max       31.000000     12.000000   2020.000000     31.000000     12.000000   \n",
       "\n",
       "            endyear  protesterviolence  \n",
       "count  15239.000000       15758.000000  \n",
       "mean    2006.329221           0.256060  \n",
       "std        8.959254           0.436469  \n",
       "min     1990.000000           0.000000  \n",
       "25%     1999.000000           0.000000  \n",
       "50%     2007.000000           0.000000  \n",
       "75%     2014.000000           1.000000  \n",
       "max     2020.000000           1.000000  "
      ]
     },
     "execution_count": 9,
     "metadata": {},
     "output_type": "execute_result"
    }
   ],
   "source": [
    "df.describe()"
   ]
  },
  {
   "cell_type": "markdown",
   "metadata": {
    "id": "N-AbYyDu5p4u"
   },
   "source": [
    "**Statistical summaries for numerical data**\n",
    "\n",
    "**count:** Number of non-missing observations for each column.\n",
    "For example, protesterviolence has 15,758 observations, while startday, startmonth, startyear, endday, endmonth, and endyear have fewer (15,239), indicating some missing data.\n",
    "\n",
    "**mean:** The average value for each column.\n",
    "For example, the average year of protest is around 2006, and the average protester violence indicator is 0.256, suggesting that about 25.6% of protests involved violence.\n",
    "\n",
    "**std (Standard Deviation):** Measures the spread or variability of the data.\n",
    "For instance, the standard deviation of the year column is about 8.99, indicating that protests are fairly spread out across the years, with some occurring earlier and others later in the dataset.\n",
    "\n",
    "**min:** The minimum value for each column.\n",
    "The earliest year recorded is 1990, with the earliest possible day of protest being the 1st of a month.\n",
    "\n",
    "**25% (1st Quartile):** The value below which 25% of the data fall.\n",
    "For example, 25% of protests occurred before 1998, and 25% of protest start days are before the 8th day of the month.\n",
    "\n",
    "**50% (Median):** The middle value when the data are ordered.\n",
    "For instance, the median year for a protest is 2007, meaning half of the protests occurred before 2007 and half after.\n",
    "\n",
    "**75% (3rd Quartile):** The value below which 75% of the data fall.\n",
    "For example, 75% of protests occurred before 2014, and 75% of protest start days are before the 23rd day of the month.\n",
    "\n",
    "**max:** The maximum value for each column.\n",
    "The latest recorded year of protest is 2020, and the maximum protest duration is captured by a start day of the 31st and an end day of the 31st in December.\n",
    "\n",
    "**Key Insights:**\n",
    "Temporal Range: \n",
    "Protests are recorded from 1990 to 2020, with a mean year around 2006, indicating a broad temporal range of data.\n",
    "\n",
    "Protester Violence: \n",
    "With a mean of 0.256 and a max of 1, about a quarter of protests involved violence.\n",
    "\n",
    "Data Gaps: \n",
    "The count shows that some columns have missing data, particularly in date-related fields (start day, end day, etc.), which should be addressed in further analysis.\n",
    "\n"
   ]
  },
  {
   "cell_type": "markdown",
   "metadata": {
    "id": "KZoeDUnAgKjh"
   },
   "source": [
    "**Data Cleaning**"
   ]
  },
  {
   "cell_type": "code",
   "execution_count": 10,
   "metadata": {
    "ExecuteTime": {
     "end_time": "2024-07-17T09:34:25.375295Z",
     "start_time": "2024-07-17T09:34:21.709643Z"
    },
    "code_folding": [],
    "id": "-R50pbidgKjh",
    "run_control": {
     "marked": false
    }
   },
   "outputs": [],
   "source": [
    "# Aggregation of protester demands and state responses.\n",
    "df['demands'] = df[['protesterdemand1', 'protesterdemand2', 'protesterdemand3', 'protesterdemand4']].apply(lambda x: ', '.join(x.dropna().astype(str)), axis=1)\n",
    "df['response'] = df[['stateresponse1', 'stateresponse2', 'stateresponse3', 'stateresponse4', 'stateresponse5', 'stateresponse6', 'stateresponse7']].apply(lambda x: ', '.join(x.dropna().astype(str)), axis=1)"
   ]
  },
  {
   "cell_type": "markdown",
   "metadata": {
    "id": "LnpG6uVL6-nA"
   },
   "source": [
    "This code iterates through each row of a DataFrame, removing missing values, converts everything to strings, and joins them with commas and spaces into a single string for that row.\n",
    "\n",
    "Aggregated protester demands and state responses into 'demands' and 'response' columns respectively."
   ]
  },
  {
   "cell_type": "code",
   "execution_count": 11,
   "metadata": {
    "ExecuteTime": {
     "end_time": "2024-07-17T09:34:25.394639Z",
     "start_time": "2024-07-17T09:34:25.375295Z"
    },
    "colab": {
     "base_uri": "https://localhost:8080/",
     "height": 689
    },
    "id": "yAvW77H6gKjh",
    "outputId": "5bef8fcb-4c45-4a5a-a21f-d694ffd59731"
   },
   "outputs": [
    {
     "data": {
      "text/html": [
       "<div>\n",
       "<style scoped>\n",
       "    .dataframe tbody tr th:only-of-type {\n",
       "        vertical-align: middle;\n",
       "    }\n",
       "\n",
       "    .dataframe tbody tr th {\n",
       "        vertical-align: top;\n",
       "    }\n",
       "\n",
       "    .dataframe thead th {\n",
       "        text-align: right;\n",
       "    }\n",
       "</style>\n",
       "<table border=\"1\" class=\"dataframe\">\n",
       "  <thead>\n",
       "    <tr style=\"text-align: right;\">\n",
       "      <th></th>\n",
       "      <th>id</th>\n",
       "      <th>country</th>\n",
       "      <th>ccode</th>\n",
       "      <th>year</th>\n",
       "      <th>region</th>\n",
       "      <th>protest</th>\n",
       "      <th>protestnumber</th>\n",
       "      <th>startday</th>\n",
       "      <th>startmonth</th>\n",
       "      <th>startyear</th>\n",
       "      <th>...</th>\n",
       "      <th>stateresponse2</th>\n",
       "      <th>stateresponse3</th>\n",
       "      <th>stateresponse4</th>\n",
       "      <th>stateresponse5</th>\n",
       "      <th>stateresponse6</th>\n",
       "      <th>stateresponse7</th>\n",
       "      <th>sources</th>\n",
       "      <th>notes</th>\n",
       "      <th>demands</th>\n",
       "      <th>response</th>\n",
       "    </tr>\n",
       "  </thead>\n",
       "  <tbody>\n",
       "    <tr>\n",
       "      <th>0</th>\n",
       "      <td>201990001</td>\n",
       "      <td>Canada</td>\n",
       "      <td>20</td>\n",
       "      <td>1990</td>\n",
       "      <td>North America</td>\n",
       "      <td>1</td>\n",
       "      <td>1</td>\n",
       "      <td>15.0</td>\n",
       "      <td>1.0</td>\n",
       "      <td>1990.0</td>\n",
       "      <td>...</td>\n",
       "      <td>NaN</td>\n",
       "      <td>NaN</td>\n",
       "      <td>NaN</td>\n",
       "      <td>NaN</td>\n",
       "      <td>NaN</td>\n",
       "      <td>NaN</td>\n",
       "      <td>1. great canadian train journeys into history;...</td>\n",
       "      <td>canada s railway passenger system was finally ...</td>\n",
       "      <td>political behavior, process, labor wage dispute</td>\n",
       "      <td>ignore</td>\n",
       "    </tr>\n",
       "    <tr>\n",
       "      <th>1</th>\n",
       "      <td>201990002</td>\n",
       "      <td>Canada</td>\n",
       "      <td>20</td>\n",
       "      <td>1990</td>\n",
       "      <td>North America</td>\n",
       "      <td>1</td>\n",
       "      <td>2</td>\n",
       "      <td>25.0</td>\n",
       "      <td>6.0</td>\n",
       "      <td>1990.0</td>\n",
       "      <td>...</td>\n",
       "      <td>NaN</td>\n",
       "      <td>NaN</td>\n",
       "      <td>NaN</td>\n",
       "      <td>NaN</td>\n",
       "      <td>NaN</td>\n",
       "      <td>NaN</td>\n",
       "      <td>1. autonomy s cry revived in quebec the new yo...</td>\n",
       "      <td>protestors were only identified as young peopl...</td>\n",
       "      <td>political behavior, process</td>\n",
       "      <td>ignore</td>\n",
       "    </tr>\n",
       "    <tr>\n",
       "      <th>2</th>\n",
       "      <td>201990003</td>\n",
       "      <td>Canada</td>\n",
       "      <td>20</td>\n",
       "      <td>1990</td>\n",
       "      <td>North America</td>\n",
       "      <td>1</td>\n",
       "      <td>3</td>\n",
       "      <td>1.0</td>\n",
       "      <td>7.0</td>\n",
       "      <td>1990.0</td>\n",
       "      <td>...</td>\n",
       "      <td>NaN</td>\n",
       "      <td>NaN</td>\n",
       "      <td>NaN</td>\n",
       "      <td>NaN</td>\n",
       "      <td>NaN</td>\n",
       "      <td>NaN</td>\n",
       "      <td>1. quebec protest after queen calls for unity ...</td>\n",
       "      <td>the queen, after calling on canadians to remai...</td>\n",
       "      <td>political behavior, process</td>\n",
       "      <td>ignore</td>\n",
       "    </tr>\n",
       "    <tr>\n",
       "      <th>3</th>\n",
       "      <td>201990004</td>\n",
       "      <td>Canada</td>\n",
       "      <td>20</td>\n",
       "      <td>1990</td>\n",
       "      <td>North America</td>\n",
       "      <td>1</td>\n",
       "      <td>4</td>\n",
       "      <td>12.0</td>\n",
       "      <td>7.0</td>\n",
       "      <td>1990.0</td>\n",
       "      <td>...</td>\n",
       "      <td>NaN</td>\n",
       "      <td>NaN</td>\n",
       "      <td>NaN</td>\n",
       "      <td>NaN</td>\n",
       "      <td>NaN</td>\n",
       "      <td>NaN</td>\n",
       "      <td>1. indians gather as siege intensifies; armed ...</td>\n",
       "      <td>canada s federal government has agreed to acqu...</td>\n",
       "      <td>land farm issue</td>\n",
       "      <td>accomodation</td>\n",
       "    </tr>\n",
       "    <tr>\n",
       "      <th>4</th>\n",
       "      <td>201990005</td>\n",
       "      <td>Canada</td>\n",
       "      <td>20</td>\n",
       "      <td>1990</td>\n",
       "      <td>North America</td>\n",
       "      <td>1</td>\n",
       "      <td>5</td>\n",
       "      <td>14.0</td>\n",
       "      <td>8.0</td>\n",
       "      <td>1990.0</td>\n",
       "      <td>...</td>\n",
       "      <td>arrests</td>\n",
       "      <td>accomodation</td>\n",
       "      <td>NaN</td>\n",
       "      <td>NaN</td>\n",
       "      <td>NaN</td>\n",
       "      <td>NaN</td>\n",
       "      <td>1. dozens hurt in mohawk blockade protest the ...</td>\n",
       "      <td>protests were directed against the state due t...</td>\n",
       "      <td>political behavior, process</td>\n",
       "      <td>crowd dispersal, arrests, accomodation</td>\n",
       "    </tr>\n",
       "  </tbody>\n",
       "</table>\n",
       "<p>5 rows × 33 columns</p>\n",
       "</div>"
      ],
      "text/plain": [
       "          id country  ccode  year         region  protest  protestnumber  \\\n",
       "0  201990001  Canada     20  1990  North America        1              1   \n",
       "1  201990002  Canada     20  1990  North America        1              2   \n",
       "2  201990003  Canada     20  1990  North America        1              3   \n",
       "3  201990004  Canada     20  1990  North America        1              4   \n",
       "4  201990005  Canada     20  1990  North America        1              5   \n",
       "\n",
       "   startday  startmonth  startyear  ...  stateresponse2  stateresponse3  \\\n",
       "0      15.0         1.0     1990.0  ...             NaN             NaN   \n",
       "1      25.0         6.0     1990.0  ...             NaN             NaN   \n",
       "2       1.0         7.0     1990.0  ...             NaN             NaN   \n",
       "3      12.0         7.0     1990.0  ...             NaN             NaN   \n",
       "4      14.0         8.0     1990.0  ...         arrests    accomodation   \n",
       "\n",
       "   stateresponse4  stateresponse5 stateresponse6 stateresponse7  \\\n",
       "0             NaN             NaN            NaN            NaN   \n",
       "1             NaN             NaN            NaN            NaN   \n",
       "2             NaN             NaN            NaN            NaN   \n",
       "3             NaN             NaN            NaN            NaN   \n",
       "4             NaN             NaN            NaN            NaN   \n",
       "\n",
       "                                             sources  \\\n",
       "0  1. great canadian train journeys into history;...   \n",
       "1  1. autonomy s cry revived in quebec the new yo...   \n",
       "2  1. quebec protest after queen calls for unity ...   \n",
       "3  1. indians gather as siege intensifies; armed ...   \n",
       "4  1. dozens hurt in mohawk blockade protest the ...   \n",
       "\n",
       "                                               notes  \\\n",
       "0  canada s railway passenger system was finally ...   \n",
       "1  protestors were only identified as young peopl...   \n",
       "2  the queen, after calling on canadians to remai...   \n",
       "3  canada s federal government has agreed to acqu...   \n",
       "4  protests were directed against the state due t...   \n",
       "\n",
       "                                           demands  \\\n",
       "0  political behavior, process, labor wage dispute   \n",
       "1                      political behavior, process   \n",
       "2                      political behavior, process   \n",
       "3                                  land farm issue   \n",
       "4                      political behavior, process   \n",
       "\n",
       "                                 response  \n",
       "0                                  ignore  \n",
       "1                                  ignore  \n",
       "2                                  ignore  \n",
       "3                            accomodation  \n",
       "4  crowd dispersal, arrests, accomodation  \n",
       "\n",
       "[5 rows x 33 columns]"
      ]
     },
     "execution_count": 11,
     "metadata": {},
     "output_type": "execute_result"
    }
   ],
   "source": [
    "df.head()"
   ]
  },
  {
   "cell_type": "code",
   "execution_count": 12,
   "metadata": {
    "ExecuteTime": {
     "end_time": "2024-07-17T09:34:25.885182Z",
     "start_time": "2024-07-17T09:34:25.397636Z"
    },
    "colab": {
     "base_uri": "https://localhost:8080/",
     "height": 206
    },
    "id": "nvXfDGtegKjh",
    "outputId": "c2140610-0918-4cc9-98a0-d05c54082009"
   },
   "outputs": [
    {
     "data": {
      "text/html": [
       "<div>\n",
       "<style scoped>\n",
       "    .dataframe tbody tr th:only-of-type {\n",
       "        vertical-align: middle;\n",
       "    }\n",
       "\n",
       "    .dataframe tbody tr th {\n",
       "        vertical-align: top;\n",
       "    }\n",
       "\n",
       "    .dataframe thead th {\n",
       "        text-align: right;\n",
       "    }\n",
       "</style>\n",
       "<table border=\"1\" class=\"dataframe\">\n",
       "  <thead>\n",
       "    <tr style=\"text-align: right;\">\n",
       "      <th></th>\n",
       "      <th>start_date</th>\n",
       "      <th>end_date</th>\n",
       "      <th>protest_duration</th>\n",
       "    </tr>\n",
       "  </thead>\n",
       "  <tbody>\n",
       "    <tr>\n",
       "      <th>0</th>\n",
       "      <td>1990-01-15</td>\n",
       "      <td>1990-01-15</td>\n",
       "      <td>0.0</td>\n",
       "    </tr>\n",
       "    <tr>\n",
       "      <th>1</th>\n",
       "      <td>1990-06-25</td>\n",
       "      <td>1990-06-25</td>\n",
       "      <td>0.0</td>\n",
       "    </tr>\n",
       "    <tr>\n",
       "      <th>2</th>\n",
       "      <td>1990-07-01</td>\n",
       "      <td>1990-07-01</td>\n",
       "      <td>0.0</td>\n",
       "    </tr>\n",
       "    <tr>\n",
       "      <th>3</th>\n",
       "      <td>1990-07-12</td>\n",
       "      <td>1990-09-06</td>\n",
       "      <td>56.0</td>\n",
       "    </tr>\n",
       "    <tr>\n",
       "      <th>4</th>\n",
       "      <td>1990-08-14</td>\n",
       "      <td>1990-08-15</td>\n",
       "      <td>1.0</td>\n",
       "    </tr>\n",
       "  </tbody>\n",
       "</table>\n",
       "</div>"
      ],
      "text/plain": [
       "  start_date   end_date  protest_duration\n",
       "0 1990-01-15 1990-01-15               0.0\n",
       "1 1990-06-25 1990-06-25               0.0\n",
       "2 1990-07-01 1990-07-01               0.0\n",
       "3 1990-07-12 1990-09-06              56.0\n",
       "4 1990-08-14 1990-08-15               1.0"
      ]
     },
     "execution_count": 12,
     "metadata": {},
     "output_type": "execute_result"
    }
   ],
   "source": [
    "# Function to create a date string from day, month, and year\n",
    "def create_date_string(row, col_prefix):\n",
    "    try:\n",
    "        return f\"{int(row[f'{col_prefix}year']):04d}-{int(row[f'{col_prefix}month']):02d}-{int(row[f'{col_prefix}day']):02d}\"\n",
    "    except ValueError:\n",
    "        return None\n",
    "\n",
    "# Apply the function to create date strings\n",
    "df['start_date'] = df.apply(lambda row: create_date_string(row, 'start'), axis=1)\n",
    "df['end_date'] = df.apply(lambda row: create_date_string(row, 'end'), axis=1)\n",
    "\n",
    "# Convert the date strings to datetime\n",
    "df['start_date'] = pd.to_datetime(df['start_date'], errors='coerce')\n",
    "df['end_date'] = pd.to_datetime(df['end_date'], errors='coerce')\n",
    "\n",
    "# Calculate protest_duration in days\n",
    "df['protest_duration'] = (df['end_date'] - df['start_date']).dt.days\n",
    "\n",
    "# Display the new columns\n",
    "df[['start_date', 'end_date', 'protest_duration']].head()\n"
   ]
  },
  {
   "cell_type": "markdown",
   "metadata": {
    "id": "lqXqG3HA71cQ"
   },
   "source": [
    "Creating date string from the day, month and year data and converting it into a single datetime column. This will ease analysis and manipulations.\n",
    "\n",
    "Created 'start_date', 'end_date' and 'protest_duration' columns using the date data."
   ]
  },
  {
   "cell_type": "code",
   "execution_count": 13,
   "metadata": {
    "ExecuteTime": {
     "end_time": "2024-07-17T09:34:25.896212Z",
     "start_time": "2024-07-17T09:34:25.885182Z"
    },
    "id": "lUjJuekLgKji"
   },
   "outputs": [],
   "source": [
    "# Converting textual representations of participants to numeric.\n",
    "# The following code maintains over 96% of the data in 'participants'.\n",
    "\n",
    "def parse_texts(x):\n",
    "    \"\"\"\n",
    "    Parses specific textual representations of participant counts into numeric values.\n",
    "    Handles predefined text patterns like 'dozens', 'hundreds', etc.\n",
    "    \"\"\"\n",
    "    x = x.lower()\n",
    "\n",
    "    text_mapping = {\n",
    "        \"dozens\": 50,\n",
    "        \"hundreds\": 500,\n",
    "        \"thousands\": 5000,\n",
    "        \"tens of thousands\": 50000,\n",
    "        \"hundreds of thousands\": 250000,\n",
    "        \"millions\": 2000000,\n",
    "        \"million\": 1000000,\n",
    "        \"a group\": 10,\n",
    "        \"busloads\": 50,\n",
    "        \"widespread\": 500,\n",
    "        \"scores\": 50,\n",
    "        \"a few dozen\": 36,\n",
    "        \"a few hundred\": 300,\n",
    "        \"a few thousand\": 3000,\n",
    "        \"several 1000s\": 5000,\n",
    "        \"few thousand\": 3000,\n",
    "        \"few dozen\": 24,\n",
    "    }\n",
    "\n",
    "    for key, value in text_mapping.items():\n",
    "        if key in x:\n",
    "            return value\n",
    "\n",
    "    if \"about \" in x:\n",
    "        match = re.search(r'\\d+', x)\n",
    "        if match:\n",
    "            return int(match.group())\n",
    "    if \"more than \" in x:\n",
    "        match = re.search(r'\\d+', x)\n",
    "        if match:\n",
    "            return int(match.group())\n",
    "\n",
    "    if \"several\" in x:\n",
    "        if \"dozen\" in x:\n",
    "            return 50\n",
    "        elif \"hundred\" in x:\n",
    "            return 500\n",
    "        elif \"thousand\" in x:\n",
    "            return 5000\n",
    "\n",
    "    return x\n",
    "\n",
    "def strip_chars(x):\n",
    "    \"\"\"\n",
    "    Removes unwanted characters from the string and converts to integer if possible.\n",
    "    Specifically handles values ending in 's' by multiplying the preceding number by 5.\n",
    "    \"\"\"\n",
    "    banned_chars = \"+><,\"\n",
    "    x = \"\".join([c for c in x if c not in banned_chars])\n",
    "\n",
    "    if x.endswith('s') and x[:-1].isdigit():\n",
    "        return int(x[:-1]) * 5\n",
    "\n",
    "    try:\n",
    "        return int(x)\n",
    "    except ValueError:\n",
    "        return x\n",
    "\n",
    "def avg_hyphen(x):\n",
    "    \"\"\"\n",
    "    Calculates the average for values specified as a range (e.g., '100-200').\n",
    "    \"\"\"\n",
    "    accepted_chars = \"1234567890-\"\n",
    "    x = \"\".join([c for c in x if c in accepted_chars])\n",
    "\n",
    "    if \"-\" in x:\n",
    "        lower, upper = x.split(\"-\")\n",
    "        if lower.isdigit() and upper.isdigit():\n",
    "            return (int(lower) + int(upper)) // 2\n",
    "\n",
    "    return np.nan\n",
    "\n",
    "def map_participants(x):\n",
    "    \"\"\"\n",
    "    Sequentially applies parsing, stripping, and averaging to convert text representations\n",
    "    of participant counts into numeric values.\n",
    "    \"\"\"\n",
    "    while isinstance(x, str):\n",
    "        x = parse_texts(x)\n",
    "        if isinstance(x, str):\n",
    "            x = strip_chars(x)\n",
    "        if isinstance(x, str):\n",
    "            x = avg_hyphen(x)\n",
    "        if isinstance(x, str):\n",
    "            x = np.nan\n",
    "    return x"
   ]
  },
  {
   "cell_type": "markdown",
   "metadata": {
    "id": "U0aCe0yp9Xz3"
   },
   "source": [
    "* Converted the participants textual representations into numerical format."
   ]
  },
  {
   "cell_type": "code",
   "execution_count": 14,
   "metadata": {
    "ExecuteTime": {
     "end_time": "2024-07-17T09:34:25.992904Z",
     "start_time": "2024-07-17T09:34:25.897217Z"
    },
    "colab": {
     "base_uri": "https://localhost:8080/"
    },
    "id": "MSbscu9ugKjj",
    "outputId": "31f71ff2-5f56-4b6f-c97e-b50192f735ca"
   },
   "outputs": [
    {
     "name": "stdout",
     "output_type": "stream",
     "text": [
      "<class 'pandas.core.frame.DataFrame'>\n",
      "RangeIndex: 17145 entries, 0 to 17144\n",
      "Data columns (total 2 columns):\n",
      " #   Column                Non-Null Count  Dtype  \n",
      "---  ------                --------------  -----  \n",
      " 0   participants          15746 non-null  object \n",
      " 1   participants_numeric  15137 non-null  float64\n",
      "dtypes: float64(1), object(1)\n",
      "memory usage: 268.0+ KB\n"
     ]
    }
   ],
   "source": [
    "# Converting 'partcipants' to usable values.\n",
    "df['participants_numeric'] = df[\"participants\"].map(map_participants)\n",
    "df[['participants', 'participants_numeric']].info()"
   ]
  },
  {
   "cell_type": "code",
   "execution_count": 15,
   "metadata": {
    "ExecuteTime": {
     "end_time": "2024-07-17T09:34:26.003098Z",
     "start_time": "2024-07-17T09:34:25.992904Z"
    },
    "colab": {
     "base_uri": "https://localhost:8080/"
    },
    "id": "anasV52mgKjj",
    "outputId": "92e77a76-ecf7-4c46-f86c-2907e2393e43"
   },
   "outputs": [
    {
     "data": {
      "text/plain": [
       "Index(['id', 'country', 'ccode', 'year', 'region', 'protest', 'protestnumber',\n",
       "       'startday', 'startmonth', 'startyear', 'endday', 'endmonth', 'endyear',\n",
       "       'protesterviolence', 'location', 'participants_category',\n",
       "       'participants', 'protesteridentity', 'protesterdemand1',\n",
       "       'protesterdemand2', 'protesterdemand3', 'protesterdemand4',\n",
       "       'stateresponse1', 'stateresponse2', 'stateresponse3', 'stateresponse4',\n",
       "       'stateresponse5', 'stateresponse6', 'stateresponse7', 'sources',\n",
       "       'notes', 'demands', 'response', 'start_date', 'end_date',\n",
       "       'protest_duration', 'participants_numeric'],\n",
       "      dtype='object')"
      ]
     },
     "execution_count": 15,
     "metadata": {},
     "output_type": "execute_result"
    }
   ],
   "source": [
    "df.columns"
   ]
  },
  {
   "cell_type": "code",
   "execution_count": 16,
   "metadata": {
    "ExecuteTime": {
     "end_time": "2024-07-17T09:34:26.015073Z",
     "start_time": "2024-07-17T09:34:26.006258Z"
    },
    "id": "bmFhAUQFgKjk"
   },
   "outputs": [],
   "source": [
    "# Columns to drop\n",
    "time_drops = [\n",
    "    'startday', 'startmonth', 'startyear', 'endday', 'endmonth', 'endyear'\n",
    "]  #Redundant as we have 'start_date'&'end_date'\n",
    "other_drops = [\n",
    "    'id',  #Not useful to prediction.\n",
    "    'ccode',  #Not useful to prediction as we already have country.\n",
    "    'protest',  #Binary column with '0' values resulting in empty rows\n",
    "    'protestnumber',  #No. of protests per year.(incrementing per protest per year)\n",
    "    'location',  #Not extremely useable given how it's already being broken by region.\n",
    "    'participants_category',  #Too many null values to be of great value. The data is also captured in 'participants_numeric'\n",
    "    'participants',  #'participants_numeric' has the numeric values of this column.\n",
    "]\n",
    "demand_drops = [\n",
    "    'protesterdemand1', 'protesterdemand2', 'protesterdemand3',\n",
    "    'protesterdemand4'\n",
    "]  #Full of null values as individual columns. Aggregated in demands column.\n",
    "response_drops = [\n",
    "    'stateresponse1', 'stateresponse2', 'stateresponse3', 'stateresponse4',\n",
    "    'stateresponse5', 'stateresponse6', 'stateresponse7'\n",
    "]  #Full of null values as individual columns. Aggregated in response column.\n",
    "\n",
    "columns_to_drop = time_drops + other_drops + demand_drops + response_drops\n",
    "df_cleaned = df.drop(columns=columns_to_drop)"
   ]
  },
  {
   "cell_type": "markdown",
   "metadata": {
    "id": "d6uVVKXs-JCv"
   },
   "source": [
    "Dropping uncessary columns or those that are not useful in our analysis as well as those that have high percentage of missing values.\n",
    "\n",
    "Also redundant columns for protesterdemands & stateresponses dropped after aggregating them into new response and demand columns."
   ]
  },
  {
   "cell_type": "code",
   "execution_count": 17,
   "metadata": {
    "ExecuteTime": {
     "end_time": "2024-07-17T09:34:26.041104Z",
     "start_time": "2024-07-17T09:34:26.017303Z"
    },
    "colab": {
     "base_uri": "https://localhost:8080/"
    },
    "id": "ApIfU4NxgKjk",
    "outputId": "11dc2c66-dc82-4969-e7e4-a18a73fdaecd"
   },
   "outputs": [
    {
     "name": "stdout",
     "output_type": "stream",
     "text": [
      "<class 'pandas.core.frame.DataFrame'>\n",
      "RangeIndex: 17145 entries, 0 to 17144\n",
      "Data columns (total 13 columns):\n",
      " #   Column                Non-Null Count  Dtype         \n",
      "---  ------                --------------  -----         \n",
      " 0   country               17145 non-null  object        \n",
      " 1   year                  17145 non-null  int64         \n",
      " 2   region                17145 non-null  object        \n",
      " 3   protesterviolence     15758 non-null  float64       \n",
      " 4   protesteridentity     14684 non-null  object        \n",
      " 5   sources               15235 non-null  object        \n",
      " 6   notes                 15193 non-null  object        \n",
      " 7   demands               17145 non-null  object        \n",
      " 8   response              17145 non-null  object        \n",
      " 9   start_date            15239 non-null  datetime64[ns]\n",
      " 10  end_date              15239 non-null  datetime64[ns]\n",
      " 11  protest_duration      15239 non-null  float64       \n",
      " 12  participants_numeric  15137 non-null  float64       \n",
      "dtypes: datetime64[ns](2), float64(3), int64(1), object(7)\n",
      "memory usage: 1.7+ MB\n"
     ]
    }
   ],
   "source": [
    "# Checking the column drops\n",
    "df_cleaned.info()"
   ]
  },
  {
   "cell_type": "code",
   "execution_count": 19,
   "metadata": {
    "ExecuteTime": {
     "end_time": "2024-07-17T09:34:26.096352Z",
     "start_time": "2024-07-17T09:34:26.043326Z"
    },
    "id": "4eSne81WgKjk"
   },
   "outputs": [],
   "source": [
    "# Handling null values.\n",
    "df_cleaned.fillna(value={\"protesteridentity\":\"unspecified\"}, inplace=True)\n",
    "col_with_null = [\n",
    "    'protesterviolence', \n",
    "    'sources', \n",
    "    'notes', \n",
    "    'start_date', \n",
    "    'end_date', \n",
    "    'protest_duration',\n",
    "    'participants_numeric',\n",
    "]\n",
    "\n",
    "#Dropping null values\n",
    "for col in col_with_null:\n",
    "    df_cleaned.dropna(subset=[col], inplace=True)"
   ]
  },
  {
   "cell_type": "markdown",
   "metadata": {
    "id": "4-MbLo7hEsCp"
   },
   "source": [
    "Handling null values in the retained columns and the missing values by imputing and dropping where imputing wasn't possible\n",
    "All this columns the null values were dropped as they columns were crucial in text analysis, temporal analysis and  in understanding the protester counts. "
   ]
  },
  {
   "cell_type": "code",
   "execution_count": 20,
   "metadata": {
    "ExecuteTime": {
     "end_time": "2024-07-17T09:34:26.114862Z",
     "start_time": "2024-07-17T09:34:26.096352Z"
    },
    "colab": {
     "base_uri": "https://localhost:8080/"
    },
    "id": "MugvfNgsgKjl",
    "outputId": "733e4dea-df7b-483b-ef8c-0a7b2b670ee8"
   },
   "outputs": [
    {
     "name": "stdout",
     "output_type": "stream",
     "text": [
      "<class 'pandas.core.frame.DataFrame'>\n",
      "Int64Index: 15087 entries, 0 to 17141\n",
      "Data columns (total 13 columns):\n",
      " #   Column                Non-Null Count  Dtype         \n",
      "---  ------                --------------  -----         \n",
      " 0   country               15087 non-null  object        \n",
      " 1   year                  15087 non-null  int64         \n",
      " 2   region                15087 non-null  object        \n",
      " 3   protesterviolence     15087 non-null  float64       \n",
      " 4   protesteridentity     15087 non-null  object        \n",
      " 5   sources               15087 non-null  object        \n",
      " 6   notes                 15087 non-null  object        \n",
      " 7   demands               15087 non-null  object        \n",
      " 8   response              15087 non-null  object        \n",
      " 9   start_date            15087 non-null  datetime64[ns]\n",
      " 10  end_date              15087 non-null  datetime64[ns]\n",
      " 11  protest_duration      15087 non-null  float64       \n",
      " 12  participants_numeric  15087 non-null  float64       \n",
      "dtypes: datetime64[ns](2), float64(3), int64(1), object(7)\n",
      "memory usage: 1.6+ MB\n"
     ]
    }
   ],
   "source": [
    "# Checking if the null values have been dropped.\n",
    "df_cleaned.info()"
   ]
  },
  {
   "cell_type": "markdown",
   "metadata": {
    "id": "UQ5NueEUgKjl"
   },
   "source": [
    "* Dropped columns based on varying criteria explained in the code.\n",
    "* Handled missing values by imputing and dropping where imputing wasn't possible."
   ]
  },
  {
   "cell_type": "markdown",
   "metadata": {
    "id": "5TMnxDJmgKjl"
   },
   "source": [
    "***Miscellaneous Cleaning***"
   ]
  },
  {
   "cell_type": "code",
   "execution_count": 21,
   "metadata": {
    "ExecuteTime": {
     "end_time": "2024-07-17T09:34:26.146964Z",
     "start_time": "2024-07-17T09:34:26.116695Z"
    },
    "id": "WQsd1tbsgKjl"
   },
   "outputs": [],
   "source": [
    "# Ensure columns have consistent data types\n",
    "expected_types = {\n",
    "    'country': 'object',\n",
    "    'year': 'int64',\n",
    "    'region': 'object',\n",
    "    'protesterviolence': 'int64',\n",
    "    'protesteridentity': 'object',\n",
    "    'demands': 'object',\n",
    "    'response': 'object',\n",
    "    'start_date': 'datetime64[ns]',\n",
    "    'end_date': 'datetime64[ns]',\n",
    "    'protest_duration': 'int64',\n",
    "    'participants_numeric': 'int64',\n",
    "    'sources': 'object',\n",
    "    'notes': 'object'\n",
    "}\n",
    "\n",
    "# Ensure columns have consistent data types\n",
    "for column, dtype in expected_types.items():\n",
    "    if dtype == 'datetime64[ns]':\n",
    "        df_cleaned[column] = pd.to_datetime(df_cleaned[column], errors='coerce')\n",
    "    else:\n",
    "        df_cleaned[column] = df_cleaned[column].astype(dtype, errors='ignore')"
   ]
  },
  {
   "cell_type": "markdown",
   "metadata": {
    "id": "gmrCRLoXJ4_p"
   },
   "source": [
    "* Ensured all our columns had consistent data types."
   ]
  },
  {
   "cell_type": "code",
   "execution_count": 22,
   "metadata": {
    "ExecuteTime": {
     "end_time": "2024-07-17T09:34:26.238774Z",
     "start_time": "2024-07-17T09:34:26.151217Z"
    },
    "id": "vRxa6rZOgKjm"
   },
   "outputs": [],
   "source": [
    "# Check for duplicates and remove them if any\n",
    "df_cleaned = df_cleaned.drop_duplicates()"
   ]
  },
  {
   "cell_type": "code",
   "execution_count": 23,
   "metadata": {
    "ExecuteTime": {
     "end_time": "2024-07-17T09:34:26.247601Z",
     "start_time": "2024-07-17T09:34:26.238774Z"
    },
    "colab": {
     "base_uri": "https://localhost:8080/"
    },
    "id": "MxRo_9MfgKjm",
    "outputId": "525586bd-0b5b-4c2e-9ab2-79099861f258"
   },
   "outputs": [
    {
     "data": {
      "text/plain": [
       "(15076, 13)"
      ]
     },
     "execution_count": 23,
     "metadata": {},
     "output_type": "execute_result"
    }
   ],
   "source": [
    "df_cleaned.shape"
   ]
  },
  {
   "cell_type": "markdown",
   "metadata": {
    "id": "5d2cVvvIJoUJ"
   },
   "source": [
    "\n",
    "* Dropped 11 duplicated rows. The clean dataset has 15076 rows and 13 columns\n",
    "\n",
    "\n"
   ]
  },
  {
   "cell_type": "code",
   "execution_count": 24,
   "metadata": {
    "ExecuteTime": {
     "end_time": "2024-07-17T09:34:26.260368Z",
     "start_time": "2024-07-17T09:34:26.248605Z"
    },
    "id": "gFoVXMCTgKjm"
   },
   "outputs": [],
   "source": [
    "# Rearrange columns and renaming\n",
    "columns_order = [\n",
    "    'region', 'country', 'year', 'start_date', 'end_date', 'protest_duration',\n",
    "    'participants_numeric', 'protesterviolence', 'protesteridentity',\n",
    "    'demands', 'response', 'sources', 'notes'\n",
    "]\n",
    "df_cleaned = df_cleaned[columns_order]"
   ]
  },
  {
   "cell_type": "markdown",
   "metadata": {
    "ExecuteTime": {
     "end_time": "2024-07-16T15:42:02.432950Z",
     "start_time": "2024-07-16T15:42:02.415805Z"
    },
    "id": "eAm984y0gKjm"
   },
   "source": [
    "\n",
    "* At the end of the cleaning process we've maintained 88% of the original data resulting in a shape of (15076, 13)."
   ]
  },
  {
   "cell_type": "markdown",
   "metadata": {
    "id": "-Xg5_gdggKjn"
   },
   "source": [
    "**Data Preparation and Processing**"
   ]
  },
  {
   "cell_type": "code",
   "execution_count": 25,
   "metadata": {
    "ExecuteTime": {
     "end_time": "2024-07-17T09:34:26.424614Z",
     "start_time": "2024-07-17T09:34:26.264378Z"
    },
    "id": "6W9hrVw3gKjn"
   },
   "outputs": [],
   "source": [
    "# Split the 'demands' and 'response' columns into multiple columns and apply one-hot encoding\n",
    "demands_split = df_cleaned['demands'].str.get_dummies(sep=', ')\n",
    "response_split = df_cleaned['response'].str.get_dummies(sep=', ')\n",
    "\n",
    "# Add a prefix to avoid column name clashes\n",
    "demands_split = demands_split.add_prefix('demand_')\n",
    "response_split = response_split.add_prefix('response_')\n",
    "\n",
    "# Concatenate the original DataFrame with the new one-hot encoded columns\n",
    "df_cleaned = pd.concat([df_cleaned, demands_split, response_split], axis=1)\n",
    "\n",
    "# Drop the original 'demands' and 'response' columns\n",
    "df_cleaned = df_cleaned.drop(columns=['demands', 'response'])\n"
   ]
  },
  {
   "cell_type": "markdown",
   "metadata": {
    "id": "ERDh6AHE3vcV"
   },
   "source": [
    "**One-hot encoding**\n",
    "\n",
    "We have split the 'demands' and 'response' columns to multiple individual columns, convert categorical variables into a numerical format that can be used by algorithms and applying one-hot encoding on the new columns."
   ]
  },
  {
   "cell_type": "code",
   "execution_count": 26,
   "metadata": {
    "ExecuteTime": {
     "end_time": "2024-07-17T09:34:26.455877Z",
     "start_time": "2024-07-17T09:34:26.427623Z"
    },
    "colab": {
     "base_uri": "https://localhost:8080/",
     "height": 706
    },
    "id": "A-Aeto1kgKjn",
    "outputId": "6000e0ce-2fbb-432d-aa34-475b34d56396"
   },
   "outputs": [
    {
     "data": {
      "text/html": [
       "<div>\n",
       "<style scoped>\n",
       "    .dataframe tbody tr th:only-of-type {\n",
       "        vertical-align: middle;\n",
       "    }\n",
       "\n",
       "    .dataframe tbody tr th {\n",
       "        vertical-align: top;\n",
       "    }\n",
       "\n",
       "    .dataframe thead th {\n",
       "        text-align: right;\n",
       "    }\n",
       "</style>\n",
       "<table border=\"1\" class=\"dataframe\">\n",
       "  <thead>\n",
       "    <tr style=\"text-align: right;\">\n",
       "      <th></th>\n",
       "      <th>region</th>\n",
       "      <th>country</th>\n",
       "      <th>year</th>\n",
       "      <th>start_date</th>\n",
       "      <th>end_date</th>\n",
       "      <th>protest_duration</th>\n",
       "      <th>participants_numeric</th>\n",
       "      <th>protesterviolence</th>\n",
       "      <th>protesteridentity</th>\n",
       "      <th>sources</th>\n",
       "      <th>...</th>\n",
       "      <th>demand_social restrictions</th>\n",
       "      <th>demand_tax policy</th>\n",
       "      <th>response_.</th>\n",
       "      <th>response_accomodation</th>\n",
       "      <th>response_arrests</th>\n",
       "      <th>response_beatings</th>\n",
       "      <th>response_crowd dispersal</th>\n",
       "      <th>response_ignore</th>\n",
       "      <th>response_killings</th>\n",
       "      <th>response_shootings</th>\n",
       "    </tr>\n",
       "  </thead>\n",
       "  <tbody>\n",
       "    <tr>\n",
       "      <th>0</th>\n",
       "      <td>North America</td>\n",
       "      <td>Canada</td>\n",
       "      <td>1990</td>\n",
       "      <td>1990-01-15</td>\n",
       "      <td>1990-01-15</td>\n",
       "      <td>0</td>\n",
       "      <td>5000</td>\n",
       "      <td>0</td>\n",
       "      <td>unspecified</td>\n",
       "      <td>1. great canadian train journeys into history;...</td>\n",
       "      <td>...</td>\n",
       "      <td>0</td>\n",
       "      <td>0</td>\n",
       "      <td>0</td>\n",
       "      <td>0</td>\n",
       "      <td>0</td>\n",
       "      <td>0</td>\n",
       "      <td>0</td>\n",
       "      <td>1</td>\n",
       "      <td>0</td>\n",
       "      <td>0</td>\n",
       "    </tr>\n",
       "    <tr>\n",
       "      <th>1</th>\n",
       "      <td>North America</td>\n",
       "      <td>Canada</td>\n",
       "      <td>1990</td>\n",
       "      <td>1990-06-25</td>\n",
       "      <td>1990-06-25</td>\n",
       "      <td>0</td>\n",
       "      <td>1000</td>\n",
       "      <td>0</td>\n",
       "      <td>unspecified</td>\n",
       "      <td>1. autonomy s cry revived in quebec the new yo...</td>\n",
       "      <td>...</td>\n",
       "      <td>0</td>\n",
       "      <td>0</td>\n",
       "      <td>0</td>\n",
       "      <td>0</td>\n",
       "      <td>0</td>\n",
       "      <td>0</td>\n",
       "      <td>0</td>\n",
       "      <td>1</td>\n",
       "      <td>0</td>\n",
       "      <td>0</td>\n",
       "    </tr>\n",
       "    <tr>\n",
       "      <th>2</th>\n",
       "      <td>North America</td>\n",
       "      <td>Canada</td>\n",
       "      <td>1990</td>\n",
       "      <td>1990-07-01</td>\n",
       "      <td>1990-07-01</td>\n",
       "      <td>0</td>\n",
       "      <td>500</td>\n",
       "      <td>0</td>\n",
       "      <td>separatist parti quebecois</td>\n",
       "      <td>1. quebec protest after queen calls for unity ...</td>\n",
       "      <td>...</td>\n",
       "      <td>0</td>\n",
       "      <td>0</td>\n",
       "      <td>0</td>\n",
       "      <td>0</td>\n",
       "      <td>0</td>\n",
       "      <td>0</td>\n",
       "      <td>0</td>\n",
       "      <td>1</td>\n",
       "      <td>0</td>\n",
       "      <td>0</td>\n",
       "    </tr>\n",
       "    <tr>\n",
       "      <th>3</th>\n",
       "      <td>North America</td>\n",
       "      <td>Canada</td>\n",
       "      <td>1990</td>\n",
       "      <td>1990-07-12</td>\n",
       "      <td>1990-09-06</td>\n",
       "      <td>56</td>\n",
       "      <td>500</td>\n",
       "      <td>1</td>\n",
       "      <td>mohawk indians</td>\n",
       "      <td>1. indians gather as siege intensifies; armed ...</td>\n",
       "      <td>...</td>\n",
       "      <td>0</td>\n",
       "      <td>0</td>\n",
       "      <td>0</td>\n",
       "      <td>1</td>\n",
       "      <td>0</td>\n",
       "      <td>0</td>\n",
       "      <td>0</td>\n",
       "      <td>0</td>\n",
       "      <td>0</td>\n",
       "      <td>0</td>\n",
       "    </tr>\n",
       "    <tr>\n",
       "      <th>4</th>\n",
       "      <td>North America</td>\n",
       "      <td>Canada</td>\n",
       "      <td>1990</td>\n",
       "      <td>1990-08-14</td>\n",
       "      <td>1990-08-15</td>\n",
       "      <td>1</td>\n",
       "      <td>950</td>\n",
       "      <td>1</td>\n",
       "      <td>local residents</td>\n",
       "      <td>1. dozens hurt in mohawk blockade protest the ...</td>\n",
       "      <td>...</td>\n",
       "      <td>0</td>\n",
       "      <td>0</td>\n",
       "      <td>0</td>\n",
       "      <td>1</td>\n",
       "      <td>1</td>\n",
       "      <td>0</td>\n",
       "      <td>1</td>\n",
       "      <td>0</td>\n",
       "      <td>0</td>\n",
       "      <td>0</td>\n",
       "    </tr>\n",
       "  </tbody>\n",
       "</table>\n",
       "<p>5 rows × 29 columns</p>\n",
       "</div>"
      ],
      "text/plain": [
       "          region country  year start_date   end_date  protest_duration  \\\n",
       "0  North America  Canada  1990 1990-01-15 1990-01-15                 0   \n",
       "1  North America  Canada  1990 1990-06-25 1990-06-25                 0   \n",
       "2  North America  Canada  1990 1990-07-01 1990-07-01                 0   \n",
       "3  North America  Canada  1990 1990-07-12 1990-09-06                56   \n",
       "4  North America  Canada  1990 1990-08-14 1990-08-15                 1   \n",
       "\n",
       "   participants_numeric  protesterviolence           protesteridentity  \\\n",
       "0                  5000                  0                 unspecified   \n",
       "1                  1000                  0                 unspecified   \n",
       "2                   500                  0  separatist parti quebecois   \n",
       "3                   500                  1              mohawk indians   \n",
       "4                   950                  1             local residents   \n",
       "\n",
       "                                             sources  ...  \\\n",
       "0  1. great canadian train journeys into history;...  ...   \n",
       "1  1. autonomy s cry revived in quebec the new yo...  ...   \n",
       "2  1. quebec protest after queen calls for unity ...  ...   \n",
       "3  1. indians gather as siege intensifies; armed ...  ...   \n",
       "4  1. dozens hurt in mohawk blockade protest the ...  ...   \n",
       "\n",
       "  demand_social restrictions  demand_tax policy  response_.  \\\n",
       "0                          0                  0           0   \n",
       "1                          0                  0           0   \n",
       "2                          0                  0           0   \n",
       "3                          0                  0           0   \n",
       "4                          0                  0           0   \n",
       "\n",
       "   response_accomodation  response_arrests  response_beatings  \\\n",
       "0                      0                 0                  0   \n",
       "1                      0                 0                  0   \n",
       "2                      0                 0                  0   \n",
       "3                      1                 0                  0   \n",
       "4                      1                 1                  0   \n",
       "\n",
       "   response_crowd dispersal  response_ignore  response_killings  \\\n",
       "0                         0                1                  0   \n",
       "1                         0                1                  0   \n",
       "2                         0                1                  0   \n",
       "3                         0                0                  0   \n",
       "4                         1                0                  0   \n",
       "\n",
       "   response_shootings  \n",
       "0                   0  \n",
       "1                   0  \n",
       "2                   0  \n",
       "3                   0  \n",
       "4                   0  \n",
       "\n",
       "[5 rows x 29 columns]"
      ]
     },
     "execution_count": 26,
     "metadata": {},
     "output_type": "execute_result"
    }
   ],
   "source": [
    "df_cleaned.head()"
   ]
  },
  {
   "cell_type": "code",
   "execution_count": 27,
   "metadata": {
    "ExecuteTime": {
     "end_time": "2024-07-17T09:34:26.467750Z",
     "start_time": "2024-07-17T09:34:26.458878Z"
    },
    "colab": {
     "base_uri": "https://localhost:8080/"
    },
    "id": "f_pB51qEgKjo",
    "outputId": "528a0f08-4b69-4852-fb5b-71650381506b"
   },
   "outputs": [
    {
     "data": {
      "text/plain": [
       "Index(['region', 'country', 'year', 'start_date', 'end_date',\n",
       "       'protest_duration', 'participants_numeric', 'protesterviolence',\n",
       "       'protesteridentity', 'sources', 'notes', 'demand_.',\n",
       "       'demand_labor wage dispute', 'demand_land farm issue',\n",
       "       'demand_police brutality', 'demand_political behavior',\n",
       "       'demand_price increases', 'demand_process',\n",
       "       'demand_removal of politician', 'demand_social restrictions',\n",
       "       'demand_tax policy', 'response_.', 'response_accomodation',\n",
       "       'response_arrests', 'response_beatings', 'response_crowd dispersal',\n",
       "       'response_ignore', 'response_killings', 'response_shootings'],\n",
       "      dtype='object')"
      ]
     },
     "execution_count": 27,
     "metadata": {},
     "output_type": "execute_result"
    }
   ],
   "source": [
    "# Check the columns\n",
    "df_cleaned.columns"
   ]
  },
  {
   "cell_type": "code",
   "execution_count": 28,
   "metadata": {
    "ExecuteTime": {
     "end_time": "2024-07-17T09:34:26.488816Z",
     "start_time": "2024-07-17T09:34:26.471740Z"
    },
    "id": "bO0z2iRagKjp"
   },
   "outputs": [],
   "source": [
    "# Drop placeholder columns\n",
    "df_cleaned = df_cleaned.drop(columns=['demand_.', 'response_.']) # The '.' were actual inputs in the data.(Not useful)\n",
    "\n",
    "# Column order\n",
    "col_order = [\n",
    "    'region', 'country', 'year', 'start_date', 'end_date', 'protest_duration',\n",
    "    'participants_numeric', 'protesterviolence', 'protesteridentity',\n",
    "    'demand_labor wage dispute', 'demand_land farm issue',\n",
    "    'demand_police brutality', 'demand_political behavior',\n",
    "    'demand_price increases', 'demand_process', 'demand_removal of politician',\n",
    "    'demand_social restrictions', 'demand_tax policy', 'response_accomodation',\n",
    "    'response_arrests', 'response_beatings', 'response_crowd dispersal',\n",
    "    'response_ignore', 'response_killings', 'response_shootings', 'sources',\n",
    "    'notes'\n",
    "]\n",
    "df_cleaned = df_cleaned[col_order]"
   ]
  },
  {
   "cell_type": "code",
   "execution_count": 29,
   "metadata": {
    "ExecuteTime": {
     "end_time": "2024-07-17T09:34:26.500946Z",
     "start_time": "2024-07-17T09:34:26.490341Z"
    },
    "id": "Od-XB8owgKjp"
   },
   "outputs": [],
   "source": [
    "# Reset the index of the DataFrame\n",
    "df_cleaned = df_cleaned.reset_index(drop=True)"
   ]
  },
  {
   "cell_type": "code",
   "execution_count": 33,
   "metadata": {
    "ExecuteTime": {
     "end_time": "2024-07-17T09:34:26.767844Z",
     "start_time": "2024-07-17T09:34:26.502941Z"
    },
    "colab": {
     "base_uri": "https://localhost:8080/"
    },
    "id": "QY8oKVMHgKjp",
    "outputId": "eef36d09-2d8e-42b6-9153-2492e9eb3e45"
   },
   "outputs": [
    {
     "name": "stdout",
     "output_type": "stream",
     "text": [
      "File saved to mass_mobilization_cleaned.csv\n"
     ]
    }
   ],
   "source": [
    "# Save the cleaned and dummified data to a new CSV in the specified directory\n",
    "save_path = \"mass_mobilization_cleaned.csv\"\n",
    "df_cleaned.to_csv(save_path, index=False)\n",
    "\n",
    "print(f\"File saved to {save_path}\")"
   ]
  },
  {
   "cell_type": "markdown",
   "metadata": {
    "id": "0v3ysDW9gKjq"
   },
   "source": [
    "\n",
    "* Reset the index of the cleaned dataframe.\n",
    "* Saved the csv to specified directory on my local machine."
   ]
  }
 ],
 "metadata": {
  "colab": {
   "provenance": []
  },
  "hide_input": false,
  "kernelspec": {
   "display_name": "Python (learn-env)",
   "language": "python",
   "name": "learn-env"
  },
  "language_info": {
   "codemirror_mode": {
    "name": "ipython",
    "version": 3
   },
   "file_extension": ".py",
   "mimetype": "text/x-python",
   "name": "python",
   "nbconvert_exporter": "python",
   "pygments_lexer": "ipython3",
   "version": "3.11.5"
  },
  "toc": {
   "base_numbering": 1,
   "nav_menu": {},
   "number_sections": false,
   "sideBar": true,
   "skip_h1_title": false,
   "title_cell": "",
   "title_sidebar": "",
   "toc_cell": false,
   "toc_position": {
    "height": "calc(100% - 180px)",
    "left": "10px",
    "top": "150px",
    "width": "256px"
   },
   "toc_section_display": true,
   "toc_window_display": false
  }
 },
 "nbformat": 4,
 "nbformat_minor": 4
}
